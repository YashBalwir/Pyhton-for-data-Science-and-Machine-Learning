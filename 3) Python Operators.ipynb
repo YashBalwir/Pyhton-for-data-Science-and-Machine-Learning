{
 "cells": [
  {
   "cell_type": "markdown",
   "metadata": {},
   "source": [
    "<img src='https://i.ibb.co/72TkvqD/logo.png'>\n",
    "\n",
    "# Python Operators."
   ]
  },
  {
   "cell_type": "markdown",
   "metadata": {},
   "source": [
    "So far we learnt the basics of python, how to handle the strings, string methods, the format method.<br>\n",
    "Now lets see the Opertors in python. "
   ]
  },
  {
   "cell_type": "markdown",
   "metadata": {},
   "source": [
    "### Operators in python\n",
    "Operators are used to perform operations on variables and values.<br>\n",
    "just like any other programming language, python has the following operators:\n",
    "\n",
    "* Arithmetic operators\n",
    "* Assignment operators\n",
    "* Comparison operators\n",
    "* Logical operators\n",
    "* Identity operators\n",
    "* Membership operators\n",
    "* Bitwise operators"
   ]
  },
  {
   "cell_type": "markdown",
   "metadata": {},
   "source": [
    "### Arithmetic operators\n",
    "Artihmetic operators are used to perform mathematical operations."
   ]
  },
  {
   "cell_type": "markdown",
   "metadata": {},
   "source": [
    "<table>\n",
    "    <tr>\n",
    "        <th>Operator</th>\n",
    "        <th>Name</th>\n",
    "        <th>Example</th>\n",
    "    </tr>\n",
    "    <tr>\n",
    "        <td>+</td>\n",
    "        <td>addition</td>\n",
    "        <td>x + y</td>\n",
    "    </tr>\n",
    "    <tr>\n",
    "        <td>-</td>\n",
    "        <td>subtraction</td>\n",
    "        <td>x - y</td>\n",
    "    </tr>\n",
    "    <tr>\n",
    "        <td>*</td>\n",
    "        <td>multiplication</td>\n",
    "        <td>x * y</td>\n",
    "    </tr>\n",
    "    <tr>\n",
    "        <td>/</td>\n",
    "        <td>division</td>\n",
    "        <td>x / y</td>\n",
    "    </tr>\n",
    "    <tr>\n",
    "        <td>%</td>\n",
    "        <td>modulus</td>\n",
    "        <td>x % y</td>\n",
    "    </tr>\n",
    "    <tr>\n",
    "        <td>**</td>\n",
    "        <td>exponential</td>\n",
    "        <td>x ** y</td>\n",
    "    </tr>\n",
    "    <tr>\n",
    "        <td>//</td>\n",
    "        <td>floor division</td>\n",
    "        <td>x // y</td>\n",
    "    </tr>\n",
    "</table>"
   ]
  },
  {
   "cell_type": "markdown",
   "metadata": {},
   "source": [
    "<strong>Note:</strong><br>\n",
    "The floor division is different than normal division. it truncates the the floating values and returns only integer value:<br>\n",
    "Lets see this by an example:"
   ]
  },
  {
   "cell_type": "code",
   "execution_count": 1,
   "metadata": {},
   "outputs": [
    {
     "name": "stdout",
     "output_type": "stream",
     "text": [
      "2.5\n",
      "2\n"
     ]
    }
   ],
   "source": [
    "#normal division\n",
    "\n",
    "print(5 / 2)\n",
    "\n",
    "#floor division\n",
    "\n",
    "print(5 // 2)"
   ]
  },
  {
   "cell_type": "markdown",
   "metadata": {},
   "source": [
    "### Assignment operators\n",
    "these operators are used to assign values to variables, which is obvious."
   ]
  },
  {
   "cell_type": "markdown",
   "metadata": {},
   "source": [
    "<table>\n",
    "    <tr>\n",
    "        <th>Operator</th>\n",
    "        <th>example</th>\n",
    "        <th>equivalent to</th>\n",
    "    </tr>\n",
    "    <tr>\n",
    "        <td>=</td>\n",
    "        <td>x = 3</td>\n",
    "        <td>x = 3</td>\n",
    "    </tr>\n",
    "    <tr>\n",
    "        <td>+=</td>\n",
    "        <td>x+=7</td>\n",
    "        <td>x = x + 7</td>\n",
    "    </tr>\n",
    "    <tr>\n",
    "        <td>-=</td>\n",
    "        <td>x-=4</td>\n",
    "        <td>x = x - 4</td>\n",
    "    </tr>\n",
    "    <tr>\n",
    "        <td>*=</td>\n",
    "        <td>x*=6</td>\n",
    "        <td>x = x * 6</td>\n",
    "    </tr>\n",
    "    <tr>\n",
    "        <td>/=</td>\n",
    "        <td>x/=2</td>\n",
    "        <td>x = x / 2</td>\n",
    "    </tr>\n",
    "    <tr>\n",
    "        <td>%=</td>\n",
    "        <td>x%=5</td>\n",
    "        <td>x = x % 5</td>\n",
    "    </tr>\n",
    "    <tr>\n",
    "        <td>//=</td>\n",
    "        <td>x//=7</td>\n",
    "        <td>x = x // 7</td>\n",
    "    </tr>\n",
    "</table>\n",
    "\n",
    "So its also True in the case of >>(right shift),<<(left shit), ** (exponential), and every type of operator.<br>\n",
    "actually, these notations are short hand notations. lets see some examples so make the picture much more clear."
   ]
  },
  {
   "cell_type": "code",
   "execution_count": 2,
   "metadata": {},
   "outputs": [
    {
     "name": "stdout",
     "output_type": "stream",
     "text": [
      "0\n",
      "1\n",
      "2\n",
      "3\n",
      "4\n"
     ]
    }
   ],
   "source": [
    "i = 0\n",
    "while i < 5:\n",
    "    print(i)\n",
    "    i+=1\n",
    "    #short hand notation for i = i + 1"
   ]
  },
  {
   "cell_type": "markdown",
   "metadata": {},
   "source": [
    "I guess now its clear, we will see now the comparison operators."
   ]
  },
  {
   "cell_type": "markdown",
   "metadata": {},
   "source": [
    "### Comparison operators"
   ]
  },
  {
   "cell_type": "markdown",
   "metadata": {},
   "source": [
    "just like in C, we have comparison operators in python namely:\n",
    "* Equal to (==)\n",
    "* Not Equal to (!=)\n",
    "* Greater than (>)\n",
    "* Less than (<)\n",
    "* Greater than equal to (>=)\n",
    "* Less than equal to (<=)\n",
    "\n",
    "Lets see the use cases of these operators."
   ]
  },
  {
   "cell_type": "code",
   "execution_count": 3,
   "metadata": {},
   "outputs": [
    {
     "name": "stdout",
     "output_type": "stream",
     "text": [
      "False\n",
      "True\n",
      "False\n",
      "True\n",
      "False\n",
      "True\n"
     ]
    }
   ],
   "source": [
    "X = 1\n",
    "Y = 2\n",
    "\n",
    "print(X == Y)\n",
    "print(X != Y)\n",
    "print(X > Y)\n",
    "print(X < Y)\n",
    "print(X >= Y)\n",
    "print(X <= Y)"
   ]
  },
  {
   "cell_type": "markdown",
   "metadata": {},
   "source": [
    "Notice that when i print the comparison, i get the boolean. which is True or False."
   ]
  },
  {
   "cell_type": "markdown",
   "metadata": {},
   "source": [
    "### Python Logical Operators\n",
    "Logical operators are used to combine conditional statements:<br>\n",
    "We have three logical operators.<br>\n",
    "* \"and\"  (Returns True if both statements are true)\n",
    "* \"or\"   (Returns True if one of the statements is true)\n",
    "* \"not\"  (Reverse the result, returns False if the result is true)\n",
    "\n",
    "and the symbol for it is the <b>word</b> itself! <br>\n",
    "Lets see what do i mean by that."
   ]
  },
  {
   "cell_type": "code",
   "execution_count": 5,
   "metadata": {},
   "outputs": [
    {
     "name": "stdout",
     "output_type": "stream",
     "text": [
      "False\n",
      "False\n",
      "True\n"
     ]
    }
   ],
   "source": [
    "X = 1\n",
    "Y = 3\n",
    "\n",
    "print(X > 2 and Y < 2)\n",
    "print(X > 2 or Y < 2)\n",
    "print(not(X > 2 and Y < 2))"
   ]
  },
  {
   "cell_type": "markdown",
   "metadata": {},
   "source": [
    "So this was about Logical Operators. Lets move ahead now!!"
   ]
  },
  {
   "cell_type": "markdown",
   "metadata": {},
   "source": [
    "### Python Identity Operators\n",
    "Identity operators are used to compare the objects, not if they are equal, but if they are actually the same object, with the same memory location:"
   ]
  },
  {
   "cell_type": "markdown",
   "metadata": {},
   "source": [
    "* is - ( Returns true if both variables are the same object )\n",
    "\n",
    "* is not - ( Returns true if both variables are not the same object ) <br>\n",
    "Lets see by an example."
   ]
  },
  {
   "cell_type": "code",
   "execution_count": 6,
   "metadata": {},
   "outputs": [
    {
     "name": "stdout",
     "output_type": "stream",
     "text": [
      "True\n",
      "False\n"
     ]
    }
   ],
   "source": [
    "X = 1\n",
    "Y = 1\n",
    "\n",
    "print( X is Y)\n",
    "print(X is not Y)"
   ]
  },
  {
   "cell_type": "markdown",
   "metadata": {},
   "source": [
    "Here, X and Y are seperate variables, but they have same value, so what python does is when multiple variables have same value, python points all those variable to a single object. it is used for less memory usage."
   ]
  },
  {
   "cell_type": "markdown",
   "metadata": {},
   "source": [
    "### Python Membership Operators\n",
    "Membership operators are used to test if a sequence is presented in an object:<br>\n",
    "These are the two membership operators:\n",
    "* in - (Returns True if a sequence with the specified value is present in the object)\n",
    "* not in - (Returns True if a sequence with the specified value is not present in the object)<br>\n",
    "Sequence means a list of numbers, or even a single number.<br>\n",
    "It will be clear to you by the following example."
   ]
  },
  {
   "cell_type": "code",
   "execution_count": 7,
   "metadata": {},
   "outputs": [
    {
     "name": "stdout",
     "output_type": "stream",
     "text": [
      "True\n",
      "False\n",
      "True\n"
     ]
    }
   ],
   "source": [
    "X = 3\n",
    "Z = 7\n",
    "Y = [1,2,3,4,5,6]\n",
    "\n",
    "print(X in Y)\n",
    "print(Z in Y)\n",
    "print(Z not in Y)"
   ]
  },
  {
   "cell_type": "markdown",
   "metadata": {},
   "source": [
    "### Python Bitwise Operators\n",
    "Bitwise operators are used to compare (binary) numbers:<br>\n",
    "We wont dive into this part much as its not as much needed for us, but we will look into it just for the sake of knowledge."
   ]
  },
  {
   "cell_type": "markdown",
   "metadata": {},
   "source": [
    "We have :\n",
    "* & - Bitwise and\n",
    "* | - Bitwise or\n",
    "* ^ - XOR\n",
    "* ~ - NOT\n",
    "* << - Left shift\n",
    "* \">>\" - Right Shift<br><br>\n",
    "if you want to know more about it, ask the instructor in the discussion sessions.<br><br>\n",
    "Thats it in this notebook!"
   ]
  },
  {
   "cell_type": "markdown",
   "metadata": {},
   "source": [
    "# Nice job!"
   ]
  }
 ],
 "metadata": {
  "kernelspec": {
   "display_name": "Python 3",
   "language": "python",
   "name": "python3"
  },
  "language_info": {
   "codemirror_mode": {
    "name": "ipython",
    "version": 3
   },
   "file_extension": ".py",
   "mimetype": "text/x-python",
   "name": "python",
   "nbconvert_exporter": "python",
   "pygments_lexer": "ipython3",
   "version": "3.7.1"
  }
 },
 "nbformat": 4,
 "nbformat_minor": 2
}
