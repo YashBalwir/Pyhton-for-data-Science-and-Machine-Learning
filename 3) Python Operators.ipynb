{
 "cells": [
  {
   "cell_type": "markdown",
   "metadata": {},
   "source": [
    "<a href=''> <img src='../logo.png'/></a>\n",
    "# Python Operators."
   ]
  },
  {
   "cell_type": "markdown",
   "metadata": {},
   "source": [
    "So far we learnt the basics of python, how to handle the strings, string methods, the format method.<br>\n",
    "Now lets see the Opertors in python. "
   ]
  },
  {
   "cell_type": "markdown",
   "metadata": {},
   "source": [
    "### Operators in python\n",
    "Operators are used to perform operations on variables and values.<br>\n",
    "just like any other programming language, python has the following operators:\n",
    "\n",
    "* Arithmetic operators\n",
    "* Assignment operators\n",
    "* Comparison operators\n",
    "* Logical operators\n",
    "* Identity operators\n",
    "* Membership operators\n",
    "* Bitwise operators"
   ]
  },
  {
   "cell_type": "markdown",
   "metadata": {},
   "source": [
    "### Arithmetic operators\n",
    "Artihmetic operators are used to perform mathematical operations."
   ]
  },
  {
   "cell_type": "markdown",
   "metadata": {},
   "source": [
    "<table>\n",
    "    <tr>\n",
    "        <th>Operator</th>\n",
    "        <th>Name</th>\n",
    "        <th>Example</th>\n",
    "    </tr>\n",
    "    <tr>\n",
    "        <td>+</td>\n",
    "        <td>addition</td>\n",
    "        <td>x + y</td>\n",
    "    </tr>\n",
    "    <tr>\n",
    "        <td>-</td>\n",
    "        <td>subtraction</td>\n",
    "        <td>x - y</td>\n",
    "    </tr>\n",
    "    <tr>\n",
    "        <td>*</td>\n",
    "        <td>multiplication</td>\n",
    "        <td>x * y</td>\n",
    "    </tr>\n",
    "    <tr>\n",
    "        <td>/</td>\n",
    "        <td>division</td>\n",
    "        <td>x / y</td>\n",
    "    </tr>\n",
    "    <tr>\n",
    "        <td>%</td>\n",
    "        <td>modulus</td>\n",
    "        <td>x % y</td>\n",
    "    </tr>\n",
    "    <tr>\n",
    "        <td>**</td>\n",
    "        <td>exponential</td>\n",
    "        <td>x ** y</td>\n",
    "    </tr>\n",
    "    <tr>\n",
    "        <td>//</td>\n",
    "        <td>floor division</td>\n",
    "        <td>x // y</td>\n",
    "    </tr>\n",
    "</table>"
   ]
  },
  {
   "cell_type": "markdown",
   "metadata": {},
   "source": [
    "<strong>Note:</strong><br>\n",
    "The floor division is different than normal division. it truncates the the floating values and returns only integer value:<br>\n",
    "Lets see this by an example:"
   ]
  },
  {
   "cell_type": "code",
   "execution_count": 1,
   "metadata": {},
   "outputs": [
    {
     "name": "stdout",
     "output_type": "stream",
     "text": [
      "2.5\n",
      "2\n"
     ]
    }
   ],
   "source": [
    "#normal division\n",
    "\n",
    "print(5 / 2)\n",
    "\n",
    "#floor division\n",
    "\n",
    "print(5 // 2)"
   ]
  },
  {
   "cell_type": "markdown",
   "metadata": {},
   "source": [
    "### Assignment operators\n",
    "these operators are used to assign values to variables, which is obvious."
   ]
  },
  {
   "cell_type": "markdown",
   "metadata": {},
   "source": [
    "<table>\n",
    "    <tr>\n",
    "        <th>Operator</th>\n",
    "        <th>example</th>\n",
    "        <th>equivalent to</th>\n",
    "    </tr>\n",
    "    <tr>\n",
    "        <td>=</td>\n",
    "        <td>x = 3</td>\n",
    "        <td>x = 3</td>\n",
    "    </tr>\n",
    "    <tr>\n",
    "        <td>+=</td>\n",
    "        <td>x+=7</td>\n",
    "        <td>x = x + 7</td>\n",
    "    </tr>\n",
    "    <tr>\n",
    "        <td>-=</td>\n",
    "        <td>x-=4</td>\n",
    "        <td>x = x - 4</td>\n",
    "    </tr>\n",
    "    <tr>\n",
    "        <td>*=</td>\n",
    "        <td>x*=6</td>\n",
    "        <td>x = x * 6</td>\n",
    "    </tr>\n",
    "    <tr>\n",
    "        <td>/=</td>\n",
    "        <td>x/=2</td>\n",
    "        <td>x = x / 2</td>\n",
    "    </tr>\n",
    "    <tr>\n",
    "        <td>%=</td>\n",
    "        <td>x%=5</td>\n",
    "        <td>x = x % 5</td>\n",
    "    </tr>\n",
    "    <tr>\n",
    "        <td>//=</td>\n",
    "        <td>x//=7</td>\n",
    "        <td>x = x // 7</td>\n",
    "    </tr>\n",
    "    <tr>\n",
    "        <td>\n",
    "            <tr>**=</tr>\n",
    "            <tr>x**=8</tr>\n",
    "            <tr>x = x ** 8</tr>\n",
    "        </td>\n",
    "    </tr>\n",
    "    <tr>\n",
    "        <td>\n",
    "            <tr>&=</tr>\n",
    "            <tr> x&=3 </tr>\n",
    "            <tr>x = x & 3</tr>\n",
    "        </td>\n",
    "    </tr>\n",
    "    <tr>\n",
    "        <td>\n",
    "            <tr>|=</tr>\n",
    "            <tr>x|=2</tr>\n",
    "            <tr>x = x | 2</tr>\n",
    "        </td>\n",
    "    </tr>\n",
    "    <tr>\n",
    "        <td>\n",
    "            <tr>^=</tr>\n",
    "            <tr>x^=5</tr>\n",
    "            <tr>x = x ^ 5</tr>\n",
    "        </td>\n",
    "    </tr>\n",
    "    <tr>\n",
    "        <td>\n",
    "            <tr>>>=</tr>\n",
    "            <tr>x>>=1</tr>\n",
    "            <tr>x = x >> 1</tr>\n",
    "        </td>\n",
    "    </tr>\n",
    "    <tr>\n",
    "        <td>\n",
    "            <tr><<=</tr>\n",
    "            <tr>x<<=1</tr>\n",
    "            <tr>x = x << 1</tr>\n",
    "        </td>\n",
    "    </tr>\n",
    "</table>"
   ]
  },
  {
   "cell_type": "markdown",
   "metadata": {},
   "source": [
    "=\tx = 5\tx = 5\t\n",
    "+=\tx += 3\tx = x + 3\t\n",
    "-=\tx -= 3\tx = x - 3\t\n",
    "*=\tx *= 3\tx = x * 3\t\n",
    "/=\tx /= 3\tx = x / 3\t\n",
    "%=\tx %= 3\tx = x % 3\t\n",
    "//=\tx //= 3\tx = x // 3\t\n",
    "**=\tx **= 3\tx = x ** 3\t\n",
    "&=\tx &= 3\tx = x & 3\t\n",
    "|=\tx |= 3\tx = x | 3\t\n",
    "^=\tx ^= 3\tx = x ^ 3\t\n",
    ">>=\tx >>= 3\tx = x >> 3\t\n",
    "<<=\tx <<= 3\tx = x << 3"
   ]
  }
 ],
 "metadata": {
  "kernelspec": {
   "display_name": "Python 3",
   "language": "python",
   "name": "python3"
  },
  "language_info": {
   "codemirror_mode": {
    "name": "ipython",
    "version": 3
   },
   "file_extension": ".py",
   "mimetype": "text/x-python",
   "name": "python",
   "nbconvert_exporter": "python",
   "pygments_lexer": "ipython3",
   "version": "3.7.1"
  }
 },
 "nbformat": 4,
 "nbformat_minor": 2
}
