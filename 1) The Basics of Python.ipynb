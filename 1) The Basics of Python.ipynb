{
 "cells": [
  {
   "cell_type": "markdown",
   "metadata": {},
   "source": [
    "<img src='https://i.ibb.co/72TkvqD/logo.png'>\n",
    "\n",
    "# The Basics of Python"
   ]
  },
  {
   "cell_type": "markdown",
   "metadata": {},
   "source": [
    "###### Designer and instructor for this course:\n",
    "Yash Balwir.<br>\n",
    "<a href=\"https://www.github.com/YashBalwir\"><i>github</i></a><br>\n",
    "<a href=\"https://www.linkedin.com/in/yashbalwir\"><i>linkedin</i></a>"
   ]
  },
  {
   "cell_type": "markdown",
   "metadata": {},
   "source": [
    "### Python is an interpreted, high-level, general-purpose programming language. Created by Guido van Rossum and first released in 1991, Python's design philosophy emphasizes code readability with its notable use of significant whitespace. Its language constructs and object-oriented approach aim to help programmers write clear, logical code for small and large-scale projects.\n",
    "source:\n",
    "<a href='https://en.wikipedia.org/wiki/Python_(programming_language)'>Wikipedia</a>"
   ]
  },
  {
   "cell_type": "markdown",
   "metadata": {},
   "source": [
    "Python is a general purpose programming language, and the reason behind saying so is its code readability. Python is first preferance to choose as a programming language by non programming background individuals or the ones who is just getting into programming, because of its simplicity.\n",
    "Moreover, the actual code in python looks very similar to what you would write an algorithm in english, so its very simple to learn, understand, and apply.<br>\n",
    "<br>\n",
    "python is a popular language in the fields such as Data Science, Machine Learning. the reason behind it is that most people who are data scientists or Machine Learning professionals need not to be from a Computer Science background, most of the people are statistians, or Economists, etc. and as python is easy to understand, as well as to learn, python is their first preferance.\n",
    "and Hey, so as ours!\n",
    "Language such as R is also popular in this field and there has been a debate all the time about which one is better. but dont get into it, both languages are similarly powerfull to apply all kinds of ML and DL algorithms.<br>\n",
    "<br>\n",
    "python is open source and rich in libraries such as :\n",
    "* Numpy\n",
    "* Pandas\n",
    "* Matplotlib\n",
    "* Seaborn\n",
    "* ScikitLearn\n",
    "* tensorflow\n",
    "* pytorch\n",
    "\n",
    "and many more..."
   ]
  },
  {
   "cell_type": "markdown",
   "metadata": {},
   "source": [
    "As we have an adequate knowledge about python and the reason behind learning it, so without further a do, Lets get Started!!!"
   ]
  },
  {
   "cell_type": "markdown",
   "metadata": {},
   "source": [
    "### First things first\n",
    "\n",
    "Writing a \"Hello, World!\" programm!<br>\n",
    "I assume the audiance is familiar with basic programming concepts, and is familair with C.\n",
    "how would you write a C programm for printing hello world to the console?\n",
    "\n",
    "#include<stdio.h>\n",
    "\n",
    "int main()<br>\n",
    "{<br>\n",
    "printf(\"Hello, World!\");<br>\n",
    "return 0;<br>\n",
    "}<br>\n",
    "\n",
    "quite like this right?\n",
    "\n",
    "well, python does that in a single line!\n",
    "arent you amazed!"
   ]
  },
  {
   "cell_type": "code",
   "execution_count": 1,
   "metadata": {},
   "outputs": [
    {
     "name": "stdout",
     "output_type": "stream",
     "text": [
      "Hello, World!\n"
     ]
    }
   ],
   "source": [
    "print(\"Hello, World!\")"
   ]
  },
  {
   "cell_type": "markdown",
   "metadata": {},
   "source": [
    "what if you missed a semi colon \";\",<br>\n",
    "or forget to use a bracket,\n",
    "well, C is going to be really pissed on you!<br>\n",
    "Python doesnt really cares if you give a semi colon or not.it takes care of it. <br>\n",
    "The only important thing in python is \"whitespace(indentation)\""
   ]
  },
  {
   "cell_type": "code",
   "execution_count": null,
   "metadata": {},
   "outputs": [],
   "source": [
    "if <condition> :\n",
    "    statement1\n",
    "    statement2\n",
    "    .\n",
    "    .\n",
    "    \n",
    "else:\n",
    "    statement1"
   ]
  },
  {
   "cell_type": "markdown",
   "metadata": {},
   "source": [
    "The above code is just an example to show the indentation, the spaces before \"statements\" inside the \"if\" block shows that they are inside the \"if\" block, if you simply write the statements without indentation, it wont read it under the if statement and sometimes it might give an Indentation error."
   ]
  },
  {
   "cell_type": "markdown",
   "metadata": {},
   "source": [
    "### Python Variables"
   ]
  },
  {
   "cell_type": "markdown",
   "metadata": {},
   "source": [
    "In Python variables are created the moment you assign a value to it:<br>\n",
    "you dont need to specify the data type before assigning value to it, as you do in C."
   ]
  },
  {
   "cell_type": "code",
   "execution_count": null,
   "metadata": {},
   "outputs": [],
   "source": [
    "x = 5\n",
    "y = \"Hello, World!\"\n",
    "# this is a comment"
   ]
  },
  {
   "cell_type": "markdown",
   "metadata": {},
   "source": [
    "comments in python starts with a # as above."
   ]
  },
  {
   "cell_type": "markdown",
   "metadata": {},
   "source": [
    "### Variable names \n",
    "variable name must start with a letter or the underscore character\n",
    "* A variable name cannot start with a number\n",
    "* A variable name can only contain alpha-numeric characters and underscores (A-z, 0-9, and _ )\n",
    "* Variable names are case-sensitive (num, Num and NUM are three different variables)"
   ]
  },
  {
   "cell_type": "markdown",
   "metadata": {},
   "source": [
    "### Assigning value to multiple variables:"
   ]
  },
  {
   "cell_type": "code",
   "execution_count": 6,
   "metadata": {},
   "outputs": [
    {
     "name": "stdout",
     "output_type": "stream",
     "text": [
      "value of x is 10\n",
      "value of y is 20\n",
      "value of z is 30\n"
     ]
    }
   ],
   "source": [
    "x, y, z = 10, 20, 30\n",
    "\n",
    "print(\"value of x is\",x)\n",
    "print(\"value of y is\",y)\n",
    "print(\"value of z is\",z)"
   ]
  },
  {
   "cell_type": "markdown",
   "metadata": {},
   "source": [
    "### Python Numbers"
   ]
  },
  {
   "cell_type": "markdown",
   "metadata": {},
   "source": [
    "There are three numeric types in Python:\n",
    "\n",
    "* int\n",
    "* float\n",
    "* complex"
   ]
  },
  {
   "cell_type": "code",
   "execution_count": null,
   "metadata": {},
   "outputs": [],
   "source": [
    "x = 7   # int\n",
    "y = 8.9  # float\n",
    "z = 1j   # complex"
   ]
  },
  {
   "cell_type": "markdown",
   "metadata": {},
   "source": [
    "#### Int\n",
    "Int, or integer, is a whole number, positive or negative, without decimals, of unlimited length.\n",
    "#### Float\n",
    "Float, or \"floating point number\" is a number, positive or negative, containing one or more decimals.\n",
    "#### Complex\n",
    "Complex numbers are written with a \"j\" as the imaginary part:"
   ]
  },
  {
   "cell_type": "code",
   "execution_count": null,
   "metadata": {},
   "outputs": [],
   "source": [
    "# Integers\n",
    "x = 1\n",
    "y = 23456765678\n",
    "z = -3453632\n",
    "\n",
    "# Floats\n",
    "\n",
    "x = 2.7\n",
    "y = 1.9\n",
    "z = -32.67\n",
    "\n",
    "# Complex\n",
    "\n",
    "x = 3+5j\n",
    "y = 5j\n",
    "z = -5j"
   ]
  },
  {
   "cell_type": "markdown",
   "metadata": {},
   "source": [
    "### How would you check the type of a variable?\n",
    "\n",
    "just ask python!!<br>\n",
    "Using \"type()\" function and passing the variable into it gives the type of that variable.<br>\n",
    "lets see through some examples.\n"
   ]
  },
  {
   "cell_type": "code",
   "execution_count": 1,
   "metadata": {},
   "outputs": [
    {
     "name": "stdout",
     "output_type": "stream",
     "text": [
      "<class 'int'>\n",
      "<class 'float'>\n",
      "<class 'complex'>\n"
     ]
    }
   ],
   "source": [
    "x = 123\n",
    "y = 22.45\n",
    "z = 3 + 4j\n",
    "\n",
    "print(type(x))\n",
    "print(type(y))\n",
    "print(type(z))"
   ]
  },
  {
   "cell_type": "markdown",
   "metadata": {},
   "source": [
    "### Type Casting(Type Conversion)\n",
    "\n",
    "You can convert from one type to another with the int(), float(), and complex() methods:\n"
   ]
  },
  {
   "cell_type": "code",
   "execution_count": 2,
   "metadata": {},
   "outputs": [
    {
     "name": "stdout",
     "output_type": "stream",
     "text": [
      "1.0\n",
      "2\n",
      "(1+0j)\n",
      "<class 'float'>\n",
      "<class 'int'>\n",
      "<class 'complex'>\n"
     ]
    }
   ],
   "source": [
    "# Convert from one type to another:\n",
    "\n",
    "x = 1 # int\n",
    "y = 2.8 # float\n",
    "z = 1j # complex\n",
    "\n",
    "#convert from int to float:\n",
    "a = float(x)\n",
    "\n",
    "#convert from float to int:\n",
    "b = int(y)\n",
    "\n",
    "#convert from int to complex:\n",
    "c = complex(x)\n",
    "\n",
    "print(a)\n",
    "print(b)\n",
    "print(c)\n",
    "\n",
    "print(type(a))\n",
    "print(type(b))\n",
    "print(type(c))"
   ]
  },
  {
   "cell_type": "markdown",
   "metadata": {},
   "source": [
    "# Nice job!"
   ]
  }
 ],
 "metadata": {
  "kernelspec": {
   "display_name": "Python 3",
   "language": "python",
   "name": "python3"
  },
  "language_info": {
   "codemirror_mode": {
    "name": "ipython",
    "version": 3
   },
   "file_extension": ".py",
   "mimetype": "text/x-python",
   "name": "python",
   "nbconvert_exporter": "python",
   "pygments_lexer": "ipython3",
   "version": "3.7.1"
  }
 },
 "nbformat": 4,
 "nbformat_minor": 2
}
